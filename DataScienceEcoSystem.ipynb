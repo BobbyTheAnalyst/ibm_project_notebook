{
 "cells": [
  {
   "cell_type": "markdown",
   "id": "333ec5d1-cad7-45ae-af2d-4b92079bcd0d",
   "metadata": {},
   "source": [
    "# Data Science Tools and Ecosystem"
   ]
  },
  {
   "cell_type": "markdown",
   "id": "a3a6d85d-1a08-4f90-8616-b338de09482f",
   "metadata": {},
   "source": [
    "#### In this notebook, Data science Tools and Ecosystem are Summarized"
   ]
  },
  {
   "cell_type": "markdown",
   "id": "74e07c0e-04a5-43e8-b1ad-10d1b0c53de1",
   "metadata": {},
   "source": [
    "**Objectives:**\n",
    "* List popular programming languages used by data scientist\n",
    "* List commonly used libraries used by data scientist\n",
    "* List most popular IDE's used by data scientist\n"
   ]
  },
  {
   "cell_type": "markdown",
   "id": "3e307662-6508-4734-aafe-17eb6f8ae55b",
   "metadata": {},
   "source": [
    "#### Some of the popular languages that data scientist use are:\n",
    "1. SQL\n",
    "1. Python\n",
    "1. R"
   ]
  },
  {
   "cell_type": "markdown",
   "id": "48966b3e-88a4-4ab0-8cdc-9d8fbca3c073",
   "metadata": {},
   "source": [
    "#### Some of the commonly used libraries used by Data scientist include:\n",
    "1. Pandas\n",
    "1. Numpy\n",
    "1. Matplotlib\n",
    "1. GGPLOT\n",
    "1. Scikit-Learn\n",
    "1. TensorFlow"
   ]
  },
  {
   "cell_type": "markdown",
   "id": "0ab4723d-4ad1-49d3-9c2d-c555b24406ad",
   "metadata": {},
   "source": [
    "| Data Science Tools |\n",
    "|:--------------------|\n",
    "| Jupyter Notebooks |\n",
    "| Jupyter Labs |\n",
    "| Vscode |\n"
   ]
  },
  {
   "cell_type": "markdown",
   "id": "4e43e1fd-2ad4-45d6-a134-044a5699047c",
   "metadata": {},
   "source": [
    "### Below are a few examples evaluating arithmetic in python"
   ]
  },
  {
   "cell_type": "code",
   "execution_count": 1,
   "id": "dce35106-c588-4a8d-97f3-ee0a51f910fb",
   "metadata": {},
   "outputs": [
    {
     "data": {
      "text/plain": [
       "17"
      ]
     },
     "execution_count": 1,
     "metadata": {},
     "output_type": "execute_result"
    }
   ],
   "source": [
    "#### This is a simple arithmetic operation to add numbers\n",
    "(3*4)+5"
   ]
  },
  {
   "cell_type": "code",
   "execution_count": 2,
   "id": "ce8a12fa-6ebb-4c20-a018-418654a51146",
   "metadata": {
    "tags": []
   },
   "outputs": [
    {
     "data": {
      "text/plain": [
       "3.3333333333333335"
      ]
     },
     "execution_count": 2,
     "metadata": {},
     "output_type": "execute_result"
    }
   ],
   "source": [
    "### This will convert 200 minuites to hours by dividing by 60\n",
    "200/60"
   ]
  },
  {
   "cell_type": "markdown",
   "id": "edcacd9d-e4ed-406b-b362-61abbfe12645",
   "metadata": {
    "tags": []
   },
   "source": [
    "### Author\n",
    "Bobby"
   ]
  },
  {
   "cell_type": "code",
   "execution_count": null,
   "id": "5b4db673-fca3-413a-9d3b-034d4d8c3e0c",
   "metadata": {},
   "outputs": [],
   "source": []
  }
 ],
 "metadata": {
  "kernelspec": {
   "display_name": "Python",
   "language": "python",
   "name": "conda-env-python-py"
  },
  "language_info": {
   "codemirror_mode": {
    "name": "ipython",
    "version": 3
   },
   "file_extension": ".py",
   "mimetype": "text/x-python",
   "name": "python",
   "nbconvert_exporter": "python",
   "pygments_lexer": "ipython3",
   "version": "3.7.12"
  },
  "toc-autonumbering": true,
  "toc-showcode": true,
  "toc-showmarkdowntxt": true
 },
 "nbformat": 4,
 "nbformat_minor": 5
}
